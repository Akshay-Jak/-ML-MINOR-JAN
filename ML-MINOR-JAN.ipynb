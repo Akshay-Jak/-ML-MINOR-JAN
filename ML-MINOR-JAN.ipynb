{
  "nbformat": 4,
  "nbformat_minor": 0,
  "metadata": {
    "colab": {
      "name": "ML-Image .ipynb",
      "provenance": [],
      "collapsed_sections": [],
      "mount_file_id": "1UjwJ1XwENufueSaW2u7Ba30FKLI2yezV",
      "authorship_tag": "ABX9TyO8Mw+ImPjZ80IIv9dp3lOK",
      "include_colab_link": true
    },
    "kernelspec": {
      "name": "python3",
      "display_name": "Python 3"
    }
  },
  "cells": [
    {
      "cell_type": "markdown",
      "metadata": {
        "id": "view-in-github",
        "colab_type": "text"
      },
      "source": [
        "<a href=\"https://colab.research.google.com/github/Akshay-Jak/-ML-MINOR-JAN/blob/main/ML-MINOR-JAN.ipynb\" target=\"_parent\"><img src=\"https://colab.research.google.com/assets/colab-badge.svg\" alt=\"Open In Colab\"/></a>"
      ]
    },
    {
      "cell_type": "code",
      "metadata": {
        "colab": {
          "base_uri": "https://localhost:8080/"
        },
        "id": "COFDwsNK__vB",
        "outputId": "7a16606f-391c-46bf-8e73-152777d027aa"
      },
      "source": [
        "# TO KNOW THE RUNTIME OF EACH CELL IN GCOLAB\r\n",
        "!pip install ipython-autotime\r\n",
        "%load_ext autotime"
      ],
      "execution_count": null,
      "outputs": [
        {
          "output_type": "stream",
          "text": [
            "Collecting ipython-autotime\n",
            "  Downloading https://files.pythonhosted.org/packages/b4/c9/b413a24f759641bc27ef98c144b590023c8038dfb8a3f09e713e9dff12c1/ipython_autotime-0.3.1-py2.py3-none-any.whl\n",
            "Requirement already satisfied: ipython in /usr/local/lib/python3.6/dist-packages (from ipython-autotime) (5.5.0)\n",
            "Requirement already satisfied: setuptools>=18.5 in /usr/local/lib/python3.6/dist-packages (from ipython->ipython-autotime) (53.0.0)\n",
            "Requirement already satisfied: simplegeneric>0.8 in /usr/local/lib/python3.6/dist-packages (from ipython->ipython-autotime) (0.8.1)\n",
            "Requirement already satisfied: prompt-toolkit<2.0.0,>=1.0.4 in /usr/local/lib/python3.6/dist-packages (from ipython->ipython-autotime) (1.0.18)\n",
            "Requirement already satisfied: pickleshare in /usr/local/lib/python3.6/dist-packages (from ipython->ipython-autotime) (0.7.5)\n",
            "Requirement already satisfied: traitlets>=4.2 in /usr/local/lib/python3.6/dist-packages (from ipython->ipython-autotime) (4.3.3)\n",
            "Requirement already satisfied: pexpect; sys_platform != \"win32\" in /usr/local/lib/python3.6/dist-packages (from ipython->ipython-autotime) (4.8.0)\n",
            "Requirement already satisfied: pygments in /usr/local/lib/python3.6/dist-packages (from ipython->ipython-autotime) (2.6.1)\n",
            "Requirement already satisfied: decorator in /usr/local/lib/python3.6/dist-packages (from ipython->ipython-autotime) (4.4.2)\n",
            "Requirement already satisfied: six>=1.9.0 in /usr/local/lib/python3.6/dist-packages (from prompt-toolkit<2.0.0,>=1.0.4->ipython->ipython-autotime) (1.15.0)\n",
            "Requirement already satisfied: wcwidth in /usr/local/lib/python3.6/dist-packages (from prompt-toolkit<2.0.0,>=1.0.4->ipython->ipython-autotime) (0.2.5)\n",
            "Requirement already satisfied: ipython-genutils in /usr/local/lib/python3.6/dist-packages (from traitlets>=4.2->ipython->ipython-autotime) (0.2.0)\n",
            "Requirement already satisfied: ptyprocess>=0.5 in /usr/local/lib/python3.6/dist-packages (from pexpect; sys_platform != \"win32\"->ipython->ipython-autotime) (0.7.0)\n",
            "Installing collected packages: ipython-autotime\n",
            "Successfully installed ipython-autotime-0.3.1\n",
            "time: 154 µs (started: 2021-02-20 16:12:14 +00:00)\n"
          ],
          "name": "stdout"
        }
      ]
    },
    {
      "cell_type": "code",
      "metadata": {
        "id": "M09okhqjv9Jh",
        "colab": {
          "base_uri": "https://localhost:8080/"
        },
        "outputId": "5b84b2ea-0446-4861-b6f4-763632037ad1"
      },
      "source": [
        "# 1. Gather the Data\r\n",
        "!pip install bing-image-downloader"
      ],
      "execution_count": null,
      "outputs": [
        {
          "output_type": "stream",
          "text": [
            "Collecting bing-image-downloader\n",
            "  Downloading https://files.pythonhosted.org/packages/0d/bf/537a61030b84ae4cd5022d5c7b014fd9bc3ce7c02358919153a6658a61d3/bing_image_downloader-1.0.4-py3-none-any.whl\n",
            "Installing collected packages: bing-image-downloader\n",
            "Successfully installed bing-image-downloader-1.0.4\n",
            "time: 2.94 s (started: 2021-02-20 16:12:14 +00:00)\n"
          ],
          "name": "stdout"
        }
      ]
    },
    {
      "cell_type": "code",
      "metadata": {
        "id": "jQorxcAr8_6w"
      },
      "source": [
        "!mkdir images"
      ],
      "execution_count": null,
      "outputs": []
    },
    {
      "cell_type": "code",
      "metadata": {
        "colab": {
          "base_uri": "https://localhost:8080/"
        },
        "id": "FFJDFvDN9JON",
        "outputId": "a1db8a83-4133-42ea-9a84-f64b781b1a00"
      },
      "source": [
        "from bing_image_downloader import downloader\r\n",
        "downloader.download(\"dog\",limit = 30,output_dir = 'images',adult_filter_off= True)"
      ],
      "execution_count": null,
      "outputs": [
        {
          "output_type": "stream",
          "text": [
            "\n",
            "\n",
            "[!!]Indexing page: 1\n",
            "\n",
            "[%] Indexed 30 Images on Page 1.\n",
            "\n",
            "===============================================\n",
            "\n",
            "[%] Downloading Image #1 from https://jooinn.com/images/dog-67.jpg\n",
            "[%] File Downloaded !\n",
            "\n",
            "[%] Downloading Image #2 from https://upload.wikimedia.org/wikipedia/commons/thumb/b/b8/Australian_Catle_Dog_Silverbarn's_Paavo.jpg/1200px-Australian_Catle_Dog_Silverbarn's_Paavo.jpg\n",
            "[%] File Downloaded !\n",
            "\n",
            "[%] Downloading Image #3 from https://d1nvdmt0osh3cv.cloudfront.net/media/catalog/product/cache/1/k/a/e/image/1800x1800/acd9cc645a7ef0ba358bd1c2969a48c8/els1312-bla.jpg\n",
            "[%] File Downloaded !\n",
            "\n",
            "[%] Downloading Image #4 from https://petskb.com/wp-content/uploads/2019/08/dog-excited.jpg\n",
            "[%] File Downloaded !\n",
            "\n",
            "[%] Downloading Image #5 from https://www.k9web.com/wp-content/uploads/2019/01/basenjis-dog.jpg\n",
            "[%] File Downloaded !\n",
            "\n",
            "[%] Downloading Image #6 from https://img.thrfun.com/img/083/608/panting_dog_x1.jpg\n",
            "[%] File Downloaded !\n",
            "\n",
            "[%] Downloading Image #7 from https://www.organicauthority.com/.image/t_share/MTU5MzI5NjYxMTcwNjIzNzAy/img_5121.jpg\n",
            "[%] File Downloaded !\n",
            "\n",
            "[%] Downloading Image #8 from http://dogdayzgrooming.com/wp-content/gallery/home-gallery/Laughing-Golden-1140x760.jpg\n",
            "[%] File Downloaded !\n",
            "\n",
            "[%] Downloading Image #9 from https://www.hdnicewallpapers.com/Walls/Big/Dog/Three_Cute_Doggy_in_Row.jpg\n",
            "[%] File Downloaded !\n",
            "\n",
            "[%] Downloading Image #10 from http://stubbydog.org/wp-content/uploads/2011/04/honey_575p.jpg\n",
            "[%] File Downloaded !\n",
            "\n",
            "[%] Downloading Image #11 from https://www.dogvills.com/wp-content/uploads/2020/05/Golden-retriever-dog-names-1.jpg\n",
            "[%] File Downloaded !\n",
            "\n",
            "[%] Downloading Image #12 from http://images.hellogiggles.com/uploads/2017/02/04230309/happy-dog.jpg\n",
            "[%] File Downloaded !\n",
            "\n",
            "[%] Downloading Image #13 from https://thebark.com/sites/default/files/content/article/full/ava-smilingdog.jpg\n",
            "[%] File Downloaded !\n",
            "\n",
            "[%] Downloading Image #14 from https://www.rheumatoidarthritis.org/wp-content/uploads/2018/04/dog-featured.jpg\n",
            "[%] File Downloaded !\n",
            "\n",
            "[%] Downloading Image #15 from http://moderndogmagazine.com/sites/default/files/images/uploads/stardog_starr.jpg\n",
            "[%] File Downloaded !\n",
            "\n",
            "[%] Downloading Image #16 from https://wallpapertag.com/wallpaper/full/7/3/0/426771-download-free-pitbull-dog-wallpaper-1440x2560.jpg\n",
            "[%] File Downloaded !\n",
            "\n",
            "[%] Downloading Image #17 from https://www.cheatsheet.com/wp-content/uploads/2017/07/hunting-dog-640x427.jpg\n",
            "[%] File Downloaded !\n",
            "\n",
            "[%] Downloading Image #18 from https://www.animalhub.com/wp-content/uploads/2014/03/dogs-funny-faces-shake-2.jpg\n",
            "[%] File Downloaded !\n",
            "\n",
            "[%] Downloading Image #19 from https://chewonthis.maddiesfund.org/wp-content/uploads/bigstock-Funny-cute-dog-celebrating-his-129248960.jpg\n",
            "[%] File Downloaded !\n",
            "\n",
            "[%] Downloading Image #20 from https://mymodernmet.com/wp/wp-content/uploads/2017/09/dog-portraits-alexander-khokhlov-9.jpg\n",
            "[%] File Downloaded !\n",
            "\n",
            "[%] Downloading Image #21 from https://upload.wikimedia.org/wikipedia/commons/thumb/a/a1/Australian_Cattle_Dog_sitting.jpg/1200px-Australian_Cattle_Dog_sitting.jpg\n",
            "[Error]Invalid image, not saving https://upload.wikimedia.org/wikipedia/commons/thumb/a/a1/Australian_Cattle_Dog_sitting.jpg/1200px-Australian_Cattle_Dog_sitting.jpg\n",
            "\n",
            "[!] Issue getting: https://upload.wikimedia.org/wikipedia/commons/thumb/a/a1/Australian_Cattle_Dog_sitting.jpg/1200px-Australian_Cattle_Dog_sitting.jpg\n",
            "[!] Error:: No active exception to reraise\n",
            "[%] Downloading Image #21 from https://hddesktopwallpapers.in/wp-content/uploads/2015/09/dog-wallpaper-for-mobile.jpg\n",
            "[%] File Downloaded !\n",
            "\n",
            "[%] Downloading Image #22 from https://moderndogmagazine.com/sites/default/files/images/uploads/stardog_izzypippelizzy.jpg\n",
            "[%] File Downloaded !\n",
            "\n",
            "[%] Downloading Image #23 from http://www.rspcasa.org.au/wp-content/uploads/2018/11/Puppy_dogtraining.jpg\n",
            "[%] File Downloaded !\n",
            "\n",
            "[%] Downloading Image #24 from https://upload.wikimedia.org/wikipedia/en/6/67/Higgins_the_Dog.jpg\n",
            "[%] File Downloaded !\n",
            "\n",
            "[%] Downloading Image #25 from http://www.hickerphoto.com/images/500/pet_dog_t3241.jpg\n",
            "[%] File Downloaded !\n",
            "\n",
            "[%] Downloading Image #26 from https://www.publicdomainpictures.net/pictures/30000/nahled/smiling-dog-1355804583CQq.jpg\n",
            "[%] File Downloaded !\n",
            "\n",
            "[%] Downloading Image #27 from http://dogsome.net/wp-content/uploads/ds86-13.jpg\n",
            "[%] File Downloaded !\n",
            "\n",
            "[%] Downloading Image #28 from https://dogbreeds-az.weebly.com/uploads/5/8/5/5/58556921/9204867.jpg\n",
            "[%] File Downloaded !\n",
            "\n",
            "[%] Downloading Image #29 from https://mymodernmet.com/wp/wp-content/uploads/2017/09/dog-portraits-alexander-khokhlov-17.jpg\n",
            "[%] File Downloaded !\n",
            "\n",
            "\n",
            "\n",
            "[!!]Indexing page: 2\n",
            "\n",
            "[%] Indexed 35 Images on Page 2.\n",
            "\n",
            "===============================================\n",
            "\n",
            "[%] Downloading Image #30 from https://upload.wikimedia.org/wikipedia/commons/thumb/b/b8/Australian_Catle_Dog_Silverbarn's_Paavo.jpg/1200px-Australian_Catle_Dog_Silverbarn's_Paavo.jpg\n",
            "[%] File Downloaded !\n",
            "\n",
            "\n",
            "\n",
            "[%] Done. Downloaded 30 images.\n",
            "\n",
            "===============================================\n",
            "\n",
            "time: 40.9 s (started: 2021-02-20 16:12:17 +00:00)\n"
          ],
          "name": "stdout"
        }
      ]
    },
    {
      "cell_type": "code",
      "metadata": {
        "colab": {
          "base_uri": "https://localhost:8080/"
        },
        "id": "VT8xAYAO-a0C",
        "outputId": "34afe0b7-99f0-4f1a-e851-938b5daf4793"
      },
      "source": [
        "from bing_image_downloader import downloader\r\n",
        "downloader.download(\"wolf\",limit = 30,output_dir = 'images',adult_filter_off= True)"
      ],
      "execution_count": null,
      "outputs": [
        {
          "output_type": "stream",
          "text": [
            "\n",
            "\n",
            "[!!]Indexing page: 1\n",
            "\n",
            "[%] Indexed 30 Images on Page 1.\n",
            "\n",
            "===============================================\n",
            "\n",
            "[%] Downloading Image #1 from http://wallup.net/wp-content/uploads/2016/01/201703-nature-animals-wolf.jpg\n",
            "[%] File Downloaded !\n",
            "\n",
            "[%] Downloading Image #2 from https://weknowyourdreams.com/images/wolf/wolf-11.jpg\n",
            "[!] Issue getting: https://weknowyourdreams.com/images/wolf/wolf-11.jpg\n",
            "[!] Error:: <urlopen error [SSL: CERTIFICATE_VERIFY_FAILED] certificate verify failed (_ssl.c:852)>\n",
            "[%] Downloading Image #2 from https://scx2.b-cdn.net/gfx/news/hires/2019/graywolf.jpg\n",
            "[%] File Downloaded !\n",
            "\n",
            "[%] Downloading Image #3 from http://i0.wp.com/predatorsoftheheart.com/wp-content/uploads/2019/01/WOLF-ENCOUNTER-5.jpg\n",
            "[%] File Downloaded !\n",
            "\n",
            "[%] Downloading Image #4 from https://nywolf.org/wp-content/uploads/2019/12/Mexican_gray_wolf_family.jpg\n",
            "[%] File Downloaded !\n",
            "\n",
            "[%] Downloading Image #5 from https://cdn.outdoorhub.com/wp-content/uploads/sites/2/2015/05/outdoorhub-oregons-newest-wolf-pack-may-growing-2015-05-21_18-50-02.jpg\n",
            "[%] File Downloaded !\n",
            "\n",
            "[%] Downloading Image #6 from https://upload.wikimedia.org/wikipedia/commons/thumb/d/dc/Eurasian_wolf.JPG/1200px-Eurasian_wolf.JPG\n",
            "[%] File Downloaded !\n",
            "\n",
            "[%] Downloading Image #7 from https://live.staticflickr.com/7057/6821976072_f4cb775087_b.jpg\n",
            "[%] File Downloaded !\n",
            "\n",
            "[%] Downloading Image #8 from https://hdwallpapers.move.pk/wp-content/uploads/2015/02/wolf-couple.jpg\n",
            "[%] File Downloaded !\n",
            "\n",
            "[%] Downloading Image #9 from https://dinoanimals.com/wp-content/uploads/2020/07/Wolf-11.jpg\n",
            "[%] File Downloaded !\n",
            "\n",
            "[%] Downloading Image #10 from https://animalstime.com/wp-content/uploads/2017/01/eurasian-wolf-1.jpg\n",
            "[%] File Downloaded !\n",
            "\n",
            "[%] Downloading Image #11 from https://cdn.britannica.com/07/5207-050-5BC9F251/Gray-wolf.jpg\n",
            "[%] File Downloaded !\n",
            "\n",
            "[%] Downloading Image #12 from https://www.biorama.eu/wp-content/uploads/2014/02/eurasischer-Wolf-Deutschland-c-Chris-Martin-Bahr-WWF-Canon.jpg\n",
            "[%] File Downloaded !\n",
            "\n",
            "[%] Downloading Image #13 from https://mylocalradio.com/wp-content/uploads/2020/06/gray-wolf.png\n",
            "[%] File Downloaded !\n",
            "\n",
            "[%] Downloading Image #14 from http://images4.fanpop.com/image/photos/16100000/Wolf-Wallpaper-wolves-16120140-1920-1200.jpg\n",
            "[%] File Downloaded !\n",
            "\n",
            "[%] Downloading Image #15 from https://i1.wp.com/thewolfintelligencer.com/wp-content/uploads/2020/05/Tibetan.jpg\n",
            "[%] File Downloaded !\n",
            "\n",
            "[%] Downloading Image #16 from https://www.hellabrunn.de/fileadmin/_processed_/csm_Tierbild_Europaeischer_Wolf_d56a2c61b1.png\n",
            "[%] File Downloaded !\n",
            "\n",
            "[%] Downloading Image #17 from http://hdwallpapers.move.pk/wp-content/uploads/2015/02/wolf-attack.jpg\n",
            "[%] File Downloaded !\n",
            "\n",
            "[%] Downloading Image #18 from https://idfg.idaho.gov/sites/default/files/styles/threshold-992/public/wolf2.jpg?itok=iIpjd2Yj\n",
            "[%] File Downloaded !\n",
            "\n",
            "[%] Downloading Image #19 from http://images6.fanpop.com/image/photos/40200000/Wolf-wolves-40251408-300-450.jpg\n",
            "[%] File Downloaded !\n",
            "\n",
            "[%] Downloading Image #20 from https://wallup.net/wp-content/uploads/2016/01/164522-wolf-animals-nature-wildlife.jpg\n",
            "[%] File Downloaded !\n",
            "\n",
            "[%] Downloading Image #21 from http://mythos-wolf.de/wp-content/uploads/2015/04/wolfaussehen.jpg\n",
            "[%] File Downloaded !\n",
            "\n",
            "[%] Downloading Image #22 from https://www.pixelstalk.net/wp-content/uploads/2016/05/Wolf-Picture.jpg\n",
            "[%] File Downloaded !\n",
            "\n",
            "[%] Downloading Image #23 from https://weknowyourdreams.com/images/wolf/wolf-01.jpg\n",
            "[!] Issue getting: https://weknowyourdreams.com/images/wolf/wolf-01.jpg\n",
            "[!] Error:: <urlopen error [SSL: CERTIFICATE_VERIFY_FAILED] certificate verify failed (_ssl.c:852)>\n",
            "[%] Downloading Image #23 from https://resize.hswstatic.com/w_1024/gif/lone-wolf-586889443.jpg\n",
            "[%] File Downloaded !\n",
            "\n",
            "[%] Downloading Image #24 from https://www.wwf.at/files/images/5b/5b87ae09ab71d_d.jpg\n",
            "[%] File Downloaded !\n",
            "\n",
            "[%] Downloading Image #25 from https://pngimg.com/uploads/wolf/wolf_PNG4604.png\n",
            "[%] File Downloaded !\n",
            "\n",
            "[%] Downloading Image #26 from https://cdn.blog.ucsusa.org/wp-content/uploads/1200-630-gray-wolf.jpg\n",
            "[%] File Downloaded !\n",
            "\n",
            "[%] Downloading Image #27 from https://www.coniferousforest.com/wp-content/uploads/2016/10/Russian-Wolf.jpg\n",
            "[%] File Downloaded !\n",
            "\n",
            "[%] Downloading Image #28 from https://www.pixelstalk.net/wp-content/uploads/2016/05/Best-HD-Wolf-Wallpapers.jpg\n",
            "[%] File Downloaded !\n",
            "\n",
            "\n",
            "\n",
            "[!!]Indexing page: 2\n",
            "\n",
            "[%] Indexed 35 Images on Page 2.\n",
            "\n",
            "===============================================\n",
            "\n",
            "[%] Downloading Image #29 from http://wallup.net/wp-content/uploads/2016/01/201703-nature-animals-wolf.jpg\n",
            "[%] File Downloaded !\n",
            "\n",
            "[%] Downloading Image #30 from https://weknowyourdreams.com/images/wolf/wolf-11.jpg\n",
            "[!] Issue getting: https://weknowyourdreams.com/images/wolf/wolf-11.jpg\n",
            "[!] Error:: <urlopen error [SSL: CERTIFICATE_VERIFY_FAILED] certificate verify failed (_ssl.c:852)>\n",
            "[%] Downloading Image #30 from https://scx2.b-cdn.net/gfx/news/hires/2019/graywolf.jpg\n",
            "[%] File Downloaded !\n",
            "\n",
            "\n",
            "\n",
            "[%] Done. Downloaded 30 images.\n",
            "\n",
            "===============================================\n",
            "\n",
            "time: 1min 2s (started: 2021-02-20 16:12:58 +00:00)\n"
          ],
          "name": "stdout"
        }
      ]
    },
    {
      "cell_type": "code",
      "metadata": {
        "id": "x_UGxoNh_ZIy",
        "colab": {
          "base_uri": "https://localhost:8080/"
        },
        "outputId": "816e7e92-2c39-4004-f556-fcab88804ae6"
      },
      "source": [
        "# 2. Preprocess Data\r\n",
        "import os \r\n",
        "import matplotlib.pyplot as plt\r\n",
        "import numpy as np\r\n",
        "from skimage.io import imread\r\n",
        "from skimage.transform import resize\r\n",
        "\r\n",
        "target = []\r\n",
        "images = []\r\n",
        "flat_data = []\r\n",
        "\r\n",
        "DATADIR = '/content/images'\r\n",
        "CATEGORY = ['dog','wolf']\r\n",
        "\r\n",
        "for category in CATEGORY:\r\n",
        "  class_num = CATEGORY.index(category) # Label Encoder\r\n",
        "  path = os.path.join(DATADIR,category) # Creating a path to use all the images\r\n",
        "  for img in os.listdir(path):\r\n",
        "    img_array = imread(os.path.join(path,img))\r\n",
        "    # print(img_array.shape) # to get the (height,width,depth)\r\n",
        "    # plt.imshow(img_array)# to get the image \r\n",
        "    img_resized = resize(img_array,(150,150,3)) # Normalises the pixel values which are 0-255 to 0-1\r\n",
        "    flat_data.append(img_resized.flatten())\r\n",
        "    images.append(img_resized)\r\n",
        "    target.append(class_num)\r\n",
        "\r\n",
        "  Flat_data =np.array(flat_data)\r\n",
        "  Target = np.array(target)\r\n",
        "  Images = np.array(images)\r\n",
        "\r\n"
      ],
      "execution_count": null,
      "outputs": [
        {
          "output_type": "stream",
          "text": [
            "time: 28.1 s (started: 2021-02-20 16:14:07 +00:00)\n"
          ],
          "name": "stdout"
        }
      ]
    },
    {
      "cell_type": "code",
      "metadata": {
        "colab": {
          "base_uri": "https://localhost:8080/"
        },
        "id": "pWdFLkgTinEc",
        "outputId": "214331af-5ba4-499f-bd93-3dc4b80b8fb0"
      },
      "source": [
        "Flat_data[0]"
      ],
      "execution_count": null,
      "outputs": [
        {
          "output_type": "execute_result",
          "data": {
            "text/plain": [
              "array([0.        , 0.        , 0.        , ..., 0.04705882, 0.00176471,\n",
              "       0.        ])"
            ]
          },
          "metadata": {
            "tags": []
          },
          "execution_count": 11
        },
        {
          "output_type": "stream",
          "text": [
            "time: 5.23 ms (started: 2021-02-20 16:14:35 +00:00)\n"
          ],
          "name": "stdout"
        }
      ]
    },
    {
      "cell_type": "code",
      "metadata": {
        "colab": {
          "base_uri": "https://localhost:8080/"
        },
        "id": "4UdMZ8IrrZsx",
        "outputId": "f899d834-76ac-4e52-ea57-a67451cc89e1"
      },
      "source": [
        "len(Flat_data[0])"
      ],
      "execution_count": null,
      "outputs": [
        {
          "output_type": "execute_result",
          "data": {
            "text/plain": [
              "67500"
            ]
          },
          "metadata": {
            "tags": []
          },
          "execution_count": 12
        },
        {
          "output_type": "stream",
          "text": [
            "time: 4.42 ms (started: 2021-02-20 16:14:35 +00:00)\n"
          ],
          "name": "stdout"
        }
      ]
    },
    {
      "cell_type": "code",
      "metadata": {
        "colab": {
          "base_uri": "https://localhost:8080/"
        },
        "id": "oRHf1ztord1e",
        "outputId": "07416e1e-6062-4d2a-b4b4-4ab25a3ffab1"
      },
      "source": [
        "150*150*3"
      ],
      "execution_count": null,
      "outputs": [
        {
          "output_type": "execute_result",
          "data": {
            "text/plain": [
              "67500"
            ]
          },
          "metadata": {
            "tags": []
          },
          "execution_count": 13
        },
        {
          "output_type": "stream",
          "text": [
            "time: 4.13 ms (started: 2021-02-20 16:14:35 +00:00)\n"
          ],
          "name": "stdout"
        }
      ]
    },
    {
      "cell_type": "code",
      "metadata": {
        "colab": {
          "base_uri": "https://localhost:8080/"
        },
        "id": "Sn1c2sxJrjec",
        "outputId": "38c85569-f48d-4bd4-f3f4-fbaf74a661be"
      },
      "source": [
        "Target"
      ],
      "execution_count": null,
      "outputs": [
        {
          "output_type": "execute_result",
          "data": {
            "text/plain": [
              "array([0, 0, 0, 0, 0, 0, 0, 0, 0, 0, 0, 0, 0, 0, 0, 0, 0, 0, 0, 0, 0, 0,\n",
              "       0, 0, 0, 0, 0, 0, 0, 0, 1, 1, 1, 1, 1, 1, 1, 1, 1, 1, 1, 1, 1, 1,\n",
              "       1, 1, 1, 1, 1, 1, 1, 1, 1, 1, 1, 1, 1, 1, 1, 1])"
            ]
          },
          "metadata": {
            "tags": []
          },
          "execution_count": 16
        },
        {
          "output_type": "stream",
          "text": [
            "time: 4.46 ms (started: 2021-02-20 16:15:14 +00:00)\n"
          ],
          "name": "stdout"
        }
      ]
    },
    {
      "cell_type": "code",
      "metadata": {
        "colab": {
          "base_uri": "https://localhost:8080/",
          "height": 298
        },
        "id": "obW2Vq_0rmBh",
        "outputId": "cf460387-f64f-4d52-8585-1cb3e686e1d2"
      },
      "source": [
        "unique,count = np.unique(target,return_counts = True)\r\n",
        "plt.bar(CATEGORY,count)"
      ],
      "execution_count": null,
      "outputs": [
        {
          "output_type": "execute_result",
          "data": {
            "text/plain": [
              "<BarContainer object of 2 artists>"
            ]
          },
          "metadata": {
            "tags": []
          },
          "execution_count": 15
        },
        {
          "output_type": "display_data",
          "data": {
            "image/png": "[encoded data removed]",
            "text/plain": [
              "<Figure size 432x288 with 1 Axes>"
            ]
          },
          "metadata": {
            "tags": [],
            "needs_background": "light"
          }
        },
        {
          "output_type": "stream",
          "text": [
            "time: 159 ms (started: 2021-02-20 16:15:09 +00:00)\n"
          ],
          "name": "stdout"
        }
      ]
    },
    {
      "cell_type": "code",
      "metadata": {
        "colab": {
          "base_uri": "https://localhost:8080/"
        },
        "id": "Wzuvvm45sRCi",
        "outputId": "6ddcd396-1b81-4cfd-a81b-05f6a4729db1"
      },
      "source": [
        "#Split data into Training and Testing\r\n",
        "from sklearn.model_selection import train_test_split\r\n",
        "x_train,x_test,y_train,y_test = train_test_split(Flat_data,Target,\r\n",
        "                                                 test_size = 0.3,random_state=109) "
      ],
      "execution_count": null,
      "outputs": [
        {
          "output_type": "stream",
          "text": [
            "time: 179 ms (started: 2021-02-20 16:15:20 +00:00)\n"
          ],
          "name": "stdout"
        }
      ]
    },
    {
      "cell_type": "code",
      "metadata": {
        "id": "bd579QYmtwsi",
        "colab": {
          "base_uri": "https://localhost:8080/"
        },
        "outputId": "867acacb-db67-4a4a-be8a-4ef640e71c4b"
      },
      "source": [
        "# 3. Apply classification Algorithm with best parameters using GridSearchCV\r\n",
        "from sklearn.model_selection import GridSearchCV\r\n",
        "from sklearn import svm\r\n",
        "para_grid = [\r\n",
        "             {'C':[1,10,100,1000],'kernel':['linear']},\r\n",
        "             {'C':[1,10,100,1000],'gamma':[0.001,0.0001],'kernel':['rbf']}\r\n",
        "]\r\n",
        "svc = svm.SVC(probability = True)\r\n",
        "clf = GridSearchCV(svc,para_grid)\r\n",
        "clf.fit(x_train,y_train)"
      ],
      "execution_count": null,
      "outputs": [
        {
          "output_type": "execute_result",
          "data": {
            "text/plain": [
              "GridSearchCV(cv=None, error_score=nan,\n",
              "             estimator=SVC(C=1.0, break_ties=False, cache_size=200,\n",
              "                           class_weight=None, coef0=0.0,\n",
              "                           decision_function_shape='ovr', degree=3,\n",
              "                           gamma='scale', kernel='rbf', max_iter=-1,\n",
              "                           probability=True, random_state=None, shrinking=True,\n",
              "                           tol=0.001, verbose=False),\n",
              "             iid='deprecated', n_jobs=None,\n",
              "             param_grid=[{'C': [1, 10, 100, 1000], 'kernel': ['linear']},\n",
              "                         {'C': [1, 10, 100, 1000], 'gamma': [0.001, 0.0001],\n",
              "                          'kernel': ['rbf']}],\n",
              "             pre_dispatch='2*n_jobs', refit=True, return_train_score=False,\n",
              "             scoring=None, verbose=0)"
            ]
          },
          "metadata": {
            "tags": []
          },
          "execution_count": 18
        },
        {
          "output_type": "stream",
          "text": [
            "time: 41.9 s (started: 2021-02-20 16:15:21 +00:00)\n"
          ],
          "name": "stdout"
        }
      ]
    },
    {
      "cell_type": "code",
      "metadata": {
        "colab": {
          "base_uri": "https://localhost:8080/"
        },
        "id": "ECJS0GmAsuWH",
        "outputId": "ce21ec70-3384-47bd-8054-56e285edfe1c"
      },
      "source": [
        "y_pred = clf.predict(x_test)\r\n",
        "y_pred\r\n"
      ],
      "execution_count": null,
      "outputs": [
        {
          "output_type": "execute_result",
          "data": {
            "text/plain": [
              "array([1, 0, 1, 1, 0, 0, 1, 1, 1, 1, 1, 1, 0, 0, 1, 0, 0, 0])"
            ]
          },
          "metadata": {
            "tags": []
          },
          "execution_count": 19
        },
        {
          "output_type": "stream",
          "text": [
            "time: 91.6 ms (started: 2021-02-20 16:16:03 +00:00)\n"
          ],
          "name": "stdout"
        }
      ]
    },
    {
      "cell_type": "code",
      "metadata": {
        "colab": {
          "base_uri": "https://localhost:8080/"
        },
        "id": "GdE-91v3s5rG",
        "outputId": "366b0686-04a6-4818-c14e-c58d739399c1"
      },
      "source": [
        "y_test"
      ],
      "execution_count": null,
      "outputs": [
        {
          "output_type": "execute_result",
          "data": {
            "text/plain": [
              "array([0, 0, 0, 1, 0, 0, 1, 0, 0, 1, 1, 1, 1, 0, 1, 0, 0, 0])"
            ]
          },
          "metadata": {
            "tags": []
          },
          "execution_count": 20
        },
        {
          "output_type": "stream",
          "text": [
            "time: 3.39 ms (started: 2021-02-20 16:16:03 +00:00)\n"
          ],
          "name": "stdout"
        }
      ]
    },
    {
      "cell_type": "code",
      "metadata": {
        "colab": {
          "base_uri": "https://localhost:8080/"
        },
        "id": "E6PsGj82s8UU",
        "outputId": "0eec3292-c062-415b-8ba9-dec910fbbcb7"
      },
      "source": [
        "# 4. Evaluating model using Confusion Matrix and classification report\r\n",
        "from sklearn.metrics import accuracy_score,confusion_matrix\r\n"
      ],
      "execution_count": null,
      "outputs": [
        {
          "output_type": "stream",
          "text": [
            "time: 1.34 ms (started: 2021-02-20 16:16:03 +00:00)\n"
          ],
          "name": "stdout"
        }
      ]
    },
    {
      "cell_type": "code",
      "metadata": {
        "colab": {
          "base_uri": "https://localhost:8080/"
        },
        "id": "stKzwpn4tGJk",
        "outputId": "0c9a43c4-fd7a-4dc2-9e8b-42fd84811293"
      },
      "source": [
        "accuracy_score(y_pred,y_test)"
      ],
      "execution_count": null,
      "outputs": [
        {
          "output_type": "execute_result",
          "data": {
            "text/plain": [
              "0.7222222222222222"
            ]
          },
          "metadata": {
            "tags": []
          },
          "execution_count": 22
        },
        {
          "output_type": "stream",
          "text": [
            "time: 3.78 ms (started: 2021-02-20 16:16:03 +00:00)\n"
          ],
          "name": "stdout"
        }
      ]
    },
    {
      "cell_type": "code",
      "metadata": {
        "colab": {
          "base_uri": "https://localhost:8080/"
        },
        "id": "uciCFlPPtQcc",
        "outputId": "8f1278e3-0017-4633-bc3f-e5d3bc0f8384"
      },
      "source": [
        "confusion_matrix(y_pred,y_test)"
      ],
      "execution_count": null,
      "outputs": [
        {
          "output_type": "execute_result",
          "data": {
            "text/plain": [
              "array([[7, 1],\n",
              "       [4, 6]])"
            ]
          },
          "metadata": {
            "tags": []
          },
          "execution_count": 23
        },
        {
          "output_type": "stream",
          "text": [
            "time: 4.44 ms (started: 2021-02-20 16:16:03 +00:00)\n"
          ],
          "name": "stdout"
        }
      ]
    },
    {
      "cell_type": "code",
      "metadata": {
        "colab": {
          "base_uri": "https://localhost:8080/"
        },
        "id": "SBcgaOvxttPO",
        "outputId": "b063b4f5-9247-4de0-8962-8ad050d49975"
      },
      "source": [
        "# Saving the Model\r\n",
        "import pickle\r\n",
        "pickle.dump(clf,open('img_model.p','wb'))"
      ],
      "execution_count": null,
      "outputs": [
        {
          "output_type": "stream",
          "text": [
            "time: 34.1 ms (started: 2021-02-20 16:16:10 +00:00)\n"
          ],
          "name": "stdout"
        }
      ]
    },
    {
      "cell_type": "code",
      "metadata": {
        "colab": {
          "base_uri": "https://localhost:8080/"
        },
        "id": "d3lyJYpCuIhE",
        "outputId": "a63e7268-d413-4fea-fac5-4556d82c93e0"
      },
      "source": [
        "model = pickle.load(open('img_model.p','rb'))"
      ],
      "execution_count": null,
      "outputs": [
        {
          "output_type": "stream",
          "text": [
            "time: 18.1 ms (started: 2021-02-20 16:16:12 +00:00)\n"
          ],
          "name": "stdout"
        }
      ]
    },
    {
      "cell_type": "code",
      "metadata": {
        "colab": {
          "base_uri": "https://localhost:8080/",
          "height": 356
        },
        "id": "go6dHCkzukB0",
        "outputId": "fb38e670-9154-4c28-8d3a-122d49bd68ba"
      },
      "source": [
        "# 5. Predict for new Image  \r\n",
        "flat_data = []\r\n",
        "url = input('Enter the URL') \r\n",
        "img1 = imread(url)\r\n",
        "img_resized = resize(img1,(150,150,3)) \r\n",
        "flat_data.append(img_resized.flatten())\r\n",
        "Flat_data =np.array(flat_data)\r\n",
        "print(img1.shape)\r\n",
        "plt.imshow(img_resized)\r\n",
        "y_out = model.predict(Flat_data)\r\n",
        "y_out = CATEGORY[y_out[0]]\r\n",
        "print(f'The Predicted Output : {y_out}')"
      ],
      "execution_count": null,
      "outputs": [
        {
          "output_type": "stream",
          "text": [
            "Enter the URLhttps://encrypted-tbn0.gstatic.com/images?q=tbn:ANd9GcQC_5JDksP0EffMwgWCRzVqkigbZdBM_8WDdw&usqp=CAU\n",
            "(183, 275, 3)\n",
            "The Predicted Output : dog\n"
          ],
          "name": "stdout"
        },
        {
          "output_type": "display_data",
          "data": {
            "image/png": "[encoded data removed]",
            "text/plain": [
              "<Figure size 432x288 with 1 Axes>"
            ]
          },
          "metadata": {
            "tags": [],
            "needs_background": "light"
          }
        },
        {
          "output_type": "stream",
          "text": [
            "time: 29.3 s (started: 2021-02-20 16:19:16 +00:00)\n"
          ],
          "name": "stdout"
        }
      ]
    }
  ]
}